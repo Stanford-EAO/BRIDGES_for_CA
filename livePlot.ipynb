{
 "cells": [
  {
   "cell_type": "code",
   "execution_count": null,
   "metadata": {
    "collapsed": true
   },
   "outputs": [],
   "source": []
  },
  {
   "cell_type": "markdown",
   "metadata": {},
   "source": [
    "### SOC_GAS"
   ]
  },
  {
   "cell_type": "code",
   "execution_count": null,
   "metadata": {
    "collapsed": true
   },
   "outputs": [],
   "source": [
    "# # save/create variables\n",
    "# SOCtrackedGas_sol = JuMP.value.(SOCTracked_GAS)\n",
    "# days = range(1, 365, length=365)\n",
    "\n",
    "# # plot\n",
    "# for i = 1:5\n",
    "#     plt = plot(days, SOCtrackedGas_sol[:,:,i]', show=true, title=\"SOC_GAS \"*string(i),)\n",
    "#     display(plt)\n",
    "# end\n"
   ]
  },
  {
   "cell_type": "code",
   "execution_count": null,
   "metadata": {
    "collapsed": true
   },
   "outputs": [],
   "source": [
    "# data\n",
    "validData = CSV.read(\"Data/storageValidation_CA_2022.csv\",DataFrame)\n",
    "validdays = collect(Date(\"2022-01-07\"):Day(7):Date(\"2022-12-30\"))\n",
    "validstor = validData[:,3] # * 7.6/6\n",
    "\n",
    "\n",
    "# combine\n",
    "sumForValid = sum(JuMP.value.(SOCTracked_GAS), dims=3)\n",
    "# print(sumForValid)\n",
    "days = collect(Date(\"2022-01-01\"):Day(1):Date(\"2022-12-31\"))\n",
    "# print(days)\n",
    "\n",
    "y = [sumForValid[:,:,1]']\n",
    "plt = plot(days, y, title=\"Total\", linecolor=\"black\", ylimits=(0,1.1 * findmax(findmax(y)[1])[1]))\n",
    "plot!(plt, validdays, validstor)\n",
    "display(plt)"
   ]
  },
  {
   "cell_type": "markdown",
   "metadata": {},
   "source": [
    "### SOC_ELEC"
   ]
  },
  {
   "cell_type": "code",
   "execution_count": null,
   "metadata": {
    "collapsed": true
   },
   "outputs": [],
   "source": [
    "# # save/create variables\n",
    "# SOCtrackedElec_sol = JuMP.value.(SOCTracked_ELEC)\n",
    "# days = range(1, 365, length=365)\n",
    "\n",
    "# # plot\n",
    "# for i = 1:5\n",
    "#     plt = plot(days, SOCtrackedElec_sol[:,:,i]', show=true, title=\"SOC_ELEC \"*string(i), linecolor = \"red\")\n",
    "#     display(plt)\n",
    "# end"
   ]
  },
  {
   "cell_type": "code",
   "execution_count": null,
   "metadata": {
    "collapsed": true
   },
   "outputs": [],
   "source": [
    "print(\"All is working\")"
   ]
  }
 ],
 "metadata": {
  "kernelspec": {
   "display_name": "Julia 1.7.2",
   "language": "julia",
   "name": "julia-1.7"
  },
  "language_info": {
   "file_extension": ".jl",
   "mimetype": "application/julia",
   "name": "julia",
   "version": "1.7.2"
  }
 },
 "nbformat": 4,
 "nbformat_minor": 2
}
